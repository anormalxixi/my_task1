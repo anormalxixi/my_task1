{
 "cells": [
  {
   "cell_type": "code",
   "execution_count": 1,
   "id": "78ac8bca",
   "metadata": {},
   "outputs": [],
   "source": [
    "import re\n",
    "import string\n",
    "import numpy as np"
   ]
  },
  {
   "cell_type": "code",
   "execution_count": 2,
   "id": "7a30fd55",
   "metadata": {},
   "outputs": [],
   "source": [
    "#准备去除标点符号和停用词\n",
    "punctuation_string=string.punctuation\n",
    "stopwords=['ourselves', 'hers', 'between', 'yourself', 'but', 'again', 'there', 'about', 'once', 'during', 'out', 'very', 'having', 'with', 'they', 'own', 'an', 'be', 'some', 'for', 'do', 'its', 'yours', 'such', 'into', 'of', 'most', 'itself', 'other', 'off', 'is', 's', 'am', 'or', 'who', 'as', 'from', 'him', 'each', 'the', 'themselves', 'until', 'below', 'are', 'we', 'these', 'your', 'his', 'through', 'don', 'nor', 'me', 'were', 'her', 'more', 'himself', 'this', 'down', 'should', 'our', 'their', 'while', 'above', 'both', 'up', 'to', 'ours', 'had', 'she', 'all', 'no', 'when', 'at', 'any', 'before', 'them', 'same', 'and', 'been', 'have', 'in', 'will', 'on', 'does', 'yourselves', 'then', 'that', 'because', 'what', 'over', 'why', 'so', 'can', 'did', 'not', 'now', 'under', 'he', 'you', 'herself', 'has', 'just', 'where', 'too', 'only', 'myself', 'which', 'those', 'i', 'after', 'few', 'whom', 't', 'being', 'if', 'theirs', 'my', 'against', 'a', 'by', 'doing', 'it', 'how', 'further', 'was', 'here', 'than']"
   ]
  },
  {
   "cell_type": "code",
   "execution_count": 99,
   "id": "f14549ed",
   "metadata": {},
   "outputs": [],
   "source": [
    "#读取文件 labels用来放邮件分类标签 data用来放每句话及里面的单词\n",
    "def get_data_labels():\n",
    "    data = []\n",
    "    labels = []\n",
    "    y=[]\n",
    "\n",
    "    with open('SMSSpamCollection.txt','r',encoding = 'utf-8') as f:\n",
    "        for line in f.readlines():\n",
    "            line=line.lower()#全部转换成小写字母\n",
    "            line=re.sub('[{}]'.format(punctuation_string),\"\",line)#把英文标点符号去掉\n",
    "            line = line.strip(\"\\n\").split()#去除首尾换行符，并按照空格划分\n",
    "            labels.append(line[0])\n",
    "            data.append(line[1:])\n",
    "            y.append(line[0])\n",
    "    return data,labels,y"
   ]
  },
  {
   "cell_type": "code",
   "execution_count": 4,
   "id": "e7836ff8",
   "metadata": {},
   "outputs": [],
   "source": [
    "#过滤停用词\n",
    "def filterate(data):\n",
    "    new_data=[]\n",
    "    for line in data:\n",
    "        line=[w for w in line if w not in stopwords]\n",
    "        new_data.append(line)\n",
    "    return new_data"
   ]
  },
  {
   "cell_type": "code",
   "execution_count": 5,
   "id": "d31481cf",
   "metadata": {},
   "outputs": [],
   "source": [
    "#把分类数字化 得到类别的一个向量\n",
    "def get_labels_vec(labels):\n",
    "    class_dict={\"spam\":1,\"ham\":0}\n",
    "    labels_vec=[]\n",
    "    for cls in labels:\n",
    "        labels_vec.append(class_dict[cls])\n",
    "    return labels_vec"
   ]
  },
  {
   "cell_type": "code",
   "execution_count": 6,
   "id": "06c5f741",
   "metadata": {},
   "outputs": [],
   "source": [
    "#创建一个词汇字典\n",
    "def get_vocablist(new_data):\n",
    "    vocablist=[]\n",
    "    for line in new_data:\n",
    "        for word in line:\n",
    "            if word not in vocablist:\n",
    "                vocablist.append(word) \n",
    "    return vocablist"
   ]
  },
  {
   "cell_type": "code",
   "execution_count": 34,
   "id": "4c7445e2",
   "metadata": {},
   "outputs": [],
   "source": [
    "#把文本向量化\n",
    "def get_document_vec(new_data,vocablist):\n",
    "    document_vec=[]\n",
    "    for line in new_data:\n",
    "        words_vec=[0]*len(vocablist)\n",
    "        for word in line:\n",
    "            if word in vocablist:\n",
    "                words_vec[vocablist.index(word)]=1#单词在字典里面的下标索引\n",
    "        document_vec.append(words_vec)\n",
    "    return document_vec"
   ]
  },
  {
   "cell_type": "code",
   "execution_count": 35,
   "id": "b55dd9b7",
   "metadata": {},
   "outputs": [],
   "source": [
    "#计算各个类别下每个词的概率\n",
    "def compute_p(new_data,vocablist,labels_vec,document_vec):\n",
    "    num_lines=len(new_data)#一共多少条邮件\n",
    "    num_words=len(vocablist)#词汇表的长度\n",
    "    p_spam=sum(labels_vec)/num_lines #垃圾邮件的概率p(c) 垃圾邮件加起来 除以 邮件总数\n",
    "\n",
    "    p0_Num=np.ones(num_words)#p0 =p(x|c0) 某个类别下词汇出现概率 长度等于词汇表长度，出现，则相应位置+1\n",
    "    p1_Num=np.ones(num_words)#p1=p(x|c1)\n",
    "    p0_Denom=2.0\n",
    "    p1_Denom=2.0\n",
    "    \n",
    "    \n",
    "    for i in range(num_lines):#遍历每条邮件\n",
    "        if labels_vec[i]==1:#如果对应得分类是垃圾邮件，那么\n",
    "            p1_Num+=document_vec[i]#出现的词汇在对应位置＋1\n",
    "            p1_Denom+=sum(document_vec[i])#分母是这条邮件出现的总词数\n",
    "        else:\n",
    "            p0_Num+=document_vec[i]\n",
    "            p0_Denom+=sum(document_vec[i])\n",
    "\n",
    "    p1Vec=np.log(p1_Num/p1_Denom)\n",
    "    p0Vec=np.log(p0_Num/p0_Denom)#分式是一个长度等于词汇表的向量，其中的每个值是对应词汇在这个类别条件下发生的概率\n",
    "\n",
    "    return p_spam,p1Vec,p0Vec"
   ]
  },
  {
   "cell_type": "code",
   "execution_count": 68,
   "id": "59ad8b92",
   "metadata": {},
   "outputs": [],
   "source": [
    "#分类器 \n",
    "def classify_final(get_document_vec,sample_handled):\n",
    "    sample_vec=get_document_vec(sample_handled,vocablist)\n",
    "    p1=sum(np.dot(sample_vec,p1Vec.T))+np.log(p_spam)#sample_vec 每个词\n",
    "    p0=sum(np.dot(sample_vec,p0Vec.T))+np.log(1-p_spam)\n",
    "    if p1>p0:\n",
    "        return \"spam\"\n",
    "    else:\n",
    "        return \"ham\""
   ]
  },
  {
   "cell_type": "code",
   "execution_count": 71,
   "id": "18fd7c05",
   "metadata": {},
   "outputs": [],
   "source": [
    "#对验证样本的处理\n",
    "def handle(sample):\n",
    "    sample_handled=[]\n",
    "    for line in sample:\n",
    "        line=line.lower()#全部转换成小写字母\n",
    "        line=re.sub('[{}]'.format(punctuation_string),\"\",line)#把英文标点符号去掉\n",
    "        line = line.strip(\"\\n\").split()#去除首尾换行符，并按照空格划分\n",
    "        sample_handled.append(line)\n",
    "        \n",
    "    return sample_handled"
   ]
  },
  {
   "cell_type": "code",
   "execution_count": 100,
   "id": "93e5e388",
   "metadata": {},
   "outputs": [
    {
     "data": {
      "text/plain": [
       "(0.1340150699677072,\n",
       " array([-5.93282526, -9.39856116, -9.39856116, ..., -9.39856116,\n",
       "        -9.39856116, -9.39856116]),\n",
       " array([-5.10594547, -9.85953567, -7.91362552, ..., -9.85953567,\n",
       "        -9.85953567, -9.85953567]))"
      ]
     },
     "execution_count": 100,
     "metadata": {},
     "output_type": "execute_result"
    }
   ],
   "source": [
    "data,labels,y=get_data_labels()\n",
    "new_data=filterate(data)\n",
    "labels_vec=get_labels_vec(labels)\n",
    "vocablist=get_vocablist(new_data)\n",
    "document_vec=get_document_vec(new_data,vocablist)\n",
    "p_spam,p1Vec,p0Vec=compute_p(new_data,vocablist,labels_vec,document_vec)\n",
    "p_spam,p1Vec,p0Vec"
   ]
  },
  {
   "cell_type": "code",
   "execution_count": 88,
   "id": "6ba5717e",
   "metadata": {},
   "outputs": [
    {
     "name": "stdout",
     "output_type": "stream",
     "text": [
      "[['customer', 'service', 'annoncement', 'you', 'have', 'a', 'new', 'years', 'delivery', 'waiting', 'for', 'you', 'please', 'call', '07046744435', 'now', 'to', 'arrange', 'delivery']]\n",
      "spam\n"
     ]
    }
   ],
   "source": [
    "sample=[\"Customer service annoncement. You have a New Years delivery waiting for you. Please call 07046744435 now to arrange delivery\"]\n",
    "sample_handled=handle(sample)\n",
    "result=classify_final(get_document_vec,sample_handled)\n",
    "print(result)"
   ]
  },
  {
   "cell_type": "code",
   "execution_count": 92,
   "id": "ec367571",
   "metadata": {},
   "outputs": [],
   "source": [
    "\n",
    "results=[]\n",
    "for line in data:\n",
    "    results.append(classify_final(get_document_vec,[line]))\n",
    "    "
   ]
  },
  {
   "cell_type": "code",
   "execution_count": 105,
   "id": "d7ab07b5",
   "metadata": {},
   "outputs": [],
   "source": [
    "n=len(y)"
   ]
  },
  {
   "cell_type": "code",
   "execution_count": 108,
   "id": "d14f83ec",
   "metadata": {},
   "outputs": [
    {
     "data": {
      "text/plain": [
       "0.01740222461428059"
      ]
     },
     "execution_count": 108,
     "metadata": {},
     "output_type": "execute_result"
    }
   ],
   "source": [
    "err=0\n",
    "for i in range(n):\n",
    "    if(results[i]!=y[i]):\n",
    "         err+=1\n",
    "#错误率\n",
    "err_rate=err/n\n",
    "err_rate"
   ]
  },
  {
   "cell_type": "code",
   "execution_count": null,
   "id": "6c6b9a3b",
   "metadata": {},
   "outputs": [],
   "source": []
  }
 ],
 "metadata": {
  "kernelspec": {
   "display_name": "Python 3 (ipykernel)",
   "language": "python",
   "name": "python3"
  },
  "language_info": {
   "codemirror_mode": {
    "name": "ipython",
    "version": 3
   },
   "file_extension": ".py",
   "mimetype": "text/x-python",
   "name": "python",
   "nbconvert_exporter": "python",
   "pygments_lexer": "ipython3",
   "version": "3.9.13"
  }
 },
 "nbformat": 4,
 "nbformat_minor": 5
}
