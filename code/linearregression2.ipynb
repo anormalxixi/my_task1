{
 "cells": [
  {
   "cell_type": "code",
   "execution_count": 2,
   "id": "c3a0bd7f",
   "metadata": {},
   "outputs": [],
   "source": [
    "import pandas as pd\n",
    "import numpy as np"
   ]
  },
  {
   "cell_type": "code",
   "execution_count": 3,
   "id": "fd10c57c",
   "metadata": {},
   "outputs": [],
   "source": [
    "df=pd.read_csv('train_.csv')\n",
    "df.rindex='id'"
   ]
  },
  {
   "cell_type": "code",
   "execution_count": 4,
   "id": "6aca4aa8",
   "metadata": {},
   "outputs": [],
   "source": [
    "#结果值不是空返回的布尔值，作为条件后面筛选\n",
    "#数据预处理\n",
    "outcome_true_bool=df['outcome'].notnull().values"
   ]
  },
  {
   "cell_type": "code",
   "execution_count": 5,
   "id": "22615596",
   "metadata": {},
   "outputs": [
    {
     "data": {
      "text/plain": [
       "id         None\n",
       "0          None\n",
       "1          None\n",
       "2          None\n",
       "3          None\n",
       "4          None\n",
       "5          None\n",
       "6          None\n",
       "7          None\n",
       "8          None\n",
       "9          None\n",
       "10         None\n",
       "11         None\n",
       "12         None\n",
       "outcome    None\n",
       "dtype: object"
      ]
     },
     "execution_count": 5,
     "metadata": {},
     "output_type": "execute_result"
    }
   ],
   "source": [
    "#把df的每一列传进去，用列的均值填充缺失值\n",
    "df.apply(lambda x:x.fillna(x.mode()[0],inplace=True),axis=0)"
   ]
  },
  {
   "cell_type": "code",
   "execution_count": 6,
   "id": "04279d6e",
   "metadata": {},
   "outputs": [],
   "source": [
    "#把结果列缺失的行删去了\n",
    "df=df[outcome_true_bool]"
   ]
  },
  {
   "cell_type": "code",
   "execution_count": 8,
   "id": "a9683634",
   "metadata": {},
   "outputs": [],
   "source": [
    "#删除之后重新设置一下行索引\n",
    "df=df.reset_index(drop=True)\n",
    "#划分数据集\n",
    "df_train=df.iloc[:300,:]\n",
    "df_cv=df.iloc[300:,:]"
   ]
  },
  {
   "cell_type": "code",
   "execution_count": 78,
   "id": "b7093b78",
   "metadata": {},
   "outputs": [],
   "source": [
    "#最小二乘法计算W，模型是y=wx X(m,n) m个样本 n个特征 Y(m,1)\n",
    "y=df_train['outcome'].values\n",
    "len(y)\n",
    "y=y.reshape(300,1)\n",
    "y.shape\n",
    "Y=y\n",
    "X=df_train.iloc[:,1:-1].values\n",
    "#L2正则化 这里本身可逆 加了之后效果没有变好\n",
    "I=np.eye(X.shape[1])\n",
    "a=0\n",
    "#计算w\n",
    "#X.T*X t1(n,n)\n",
    "t1=np.dot(X.T,X)+a*I\n",
    "#求逆 t2(n,n)\n",
    "t2=np.linalg.inv(t1)\n",
    "#X.T*Y t3(n,1) W(n,1)\n",
    "t3=np.dot(X.T,Y)\n",
    "W=np.dot(t2,t3)"
   ]
  },
  {
   "cell_type": "code",
   "execution_count": 79,
   "id": "4f43980d",
   "metadata": {},
   "outputs": [
    {
     "name": "stdout",
     "output_type": "stream",
     "text": [
      "25.078545287307488\n"
     ]
    },
    {
     "data": {
      "text/plain": [
       "37.108866187741285"
      ]
     },
     "execution_count": 79,
     "metadata": {},
     "output_type": "execute_result"
    }
   ],
   "source": [
    "#评估\n",
    "y_hat=np.dot(X,W)\n",
    "square=pow(y_hat.T-df_train['outcome'].values,2)\n",
    "s=np.sum(square)\n",
    "MSE=1/df_train['id'].size*s\n",
    "print(MSE)\n",
    "\n",
    "\n",
    "X_cv=df_cv.iloc[:,1:-1]\n",
    "y_cv=np.dot(X_cv,W)\n",
    "square_cv=pow(y_cv.T-df_cv['outcome'].values,2)\n",
    "s_cv=np.sum(square_cv)\n",
    "MSE_cv=1/df_cv['id'].size*s_cv\n",
    "MSE_cv"
   ]
  },
  {
   "cell_type": "code",
   "execution_count": null,
   "id": "980b8b3f",
   "metadata": {},
   "outputs": [],
   "source": []
  }
 ],
 "metadata": {
  "kernelspec": {
   "display_name": "Python 3 (ipykernel)",
   "language": "python",
   "name": "python3"
  },
  "language_info": {
   "codemirror_mode": {
    "name": "ipython",
    "version": 3
   },
   "file_extension": ".py",
   "mimetype": "text/x-python",
   "name": "python",
   "nbconvert_exporter": "python",
   "pygments_lexer": "ipython3",
   "version": "3.9.13"
  }
 },
 "nbformat": 4,
 "nbformat_minor": 5
}
